{
 "cells": [
  {
   "cell_type": "code",
   "execution_count": 1,
   "id": "f1bdffdf",
   "metadata": {},
   "outputs": [],
   "source": [
    "import numpy as np\n",
    "import pandas as pd\n",
    "import matplotlib.pyplot as pt"
   ]
  },
  {
   "cell_type": "code",
   "execution_count": 2,
   "id": "4fcc0400",
   "metadata": {},
   "outputs": [],
   "source": [
    "df = pd.read_csv(\"E:\\waterquality\\\\nba.csv\")"
   ]
  },
  {
   "cell_type": "code",
   "execution_count": 3,
   "id": "036b3ee3",
   "metadata": {},
   "outputs": [
    {
     "data": {
      "text/html": [
       "<div>\n",
       "<style scoped>\n",
       "    .dataframe tbody tr th:only-of-type {\n",
       "        vertical-align: middle;\n",
       "    }\n",
       "\n",
       "    .dataframe tbody tr th {\n",
       "        vertical-align: top;\n",
       "    }\n",
       "\n",
       "    .dataframe thead th {\n",
       "        text-align: right;\n",
       "    }\n",
       "</style>\n",
       "<table border=\"1\" class=\"dataframe\">\n",
       "  <thead>\n",
       "    <tr style=\"text-align: right;\">\n",
       "      <th></th>\n",
       "      <th>Name</th>\n",
       "      <th>Team</th>\n",
       "      <th>Number</th>\n",
       "      <th>Position</th>\n",
       "      <th>Age</th>\n",
       "      <th>Height</th>\n",
       "      <th>Weight</th>\n",
       "      <th>College</th>\n",
       "      <th>Salary</th>\n",
       "    </tr>\n",
       "  </thead>\n",
       "  <tbody>\n",
       "    <tr>\n",
       "      <th>0</th>\n",
       "      <td>Avery Bradley</td>\n",
       "      <td>Boston Celtics</td>\n",
       "      <td>0.0</td>\n",
       "      <td>PG</td>\n",
       "      <td>25.0</td>\n",
       "      <td>6-2</td>\n",
       "      <td>180.0</td>\n",
       "      <td>Texas</td>\n",
       "      <td>7730337.0</td>\n",
       "    </tr>\n",
       "    <tr>\n",
       "      <th>1</th>\n",
       "      <td>Jae Crowder</td>\n",
       "      <td>Boston Celtics</td>\n",
       "      <td>99.0</td>\n",
       "      <td>SF</td>\n",
       "      <td>25.0</td>\n",
       "      <td>6-6</td>\n",
       "      <td>235.0</td>\n",
       "      <td>Marquette</td>\n",
       "      <td>6796117.0</td>\n",
       "    </tr>\n",
       "    <tr>\n",
       "      <th>2</th>\n",
       "      <td>John Holland</td>\n",
       "      <td>Boston Celtics</td>\n",
       "      <td>30.0</td>\n",
       "      <td>SG</td>\n",
       "      <td>27.0</td>\n",
       "      <td>6-5</td>\n",
       "      <td>205.0</td>\n",
       "      <td>Boston University</td>\n",
       "      <td>NaN</td>\n",
       "    </tr>\n",
       "    <tr>\n",
       "      <th>3</th>\n",
       "      <td>R.J. Hunter</td>\n",
       "      <td>Boston Celtics</td>\n",
       "      <td>28.0</td>\n",
       "      <td>SG</td>\n",
       "      <td>22.0</td>\n",
       "      <td>6-5</td>\n",
       "      <td>185.0</td>\n",
       "      <td>Georgia State</td>\n",
       "      <td>1148640.0</td>\n",
       "    </tr>\n",
       "    <tr>\n",
       "      <th>4</th>\n",
       "      <td>Jonas Jerebko</td>\n",
       "      <td>Boston Celtics</td>\n",
       "      <td>8.0</td>\n",
       "      <td>PF</td>\n",
       "      <td>29.0</td>\n",
       "      <td>6-10</td>\n",
       "      <td>231.0</td>\n",
       "      <td>NaN</td>\n",
       "      <td>5000000.0</td>\n",
       "    </tr>\n",
       "  </tbody>\n",
       "</table>\n",
       "</div>"
      ],
      "text/plain": [
       "            Name            Team  Number Position   Age Height  Weight  \\\n",
       "0  Avery Bradley  Boston Celtics     0.0       PG  25.0    6-2   180.0   \n",
       "1    Jae Crowder  Boston Celtics    99.0       SF  25.0    6-6   235.0   \n",
       "2   John Holland  Boston Celtics    30.0       SG  27.0    6-5   205.0   \n",
       "3    R.J. Hunter  Boston Celtics    28.0       SG  22.0    6-5   185.0   \n",
       "4  Jonas Jerebko  Boston Celtics     8.0       PF  29.0   6-10   231.0   \n",
       "\n",
       "             College     Salary  \n",
       "0              Texas  7730337.0  \n",
       "1          Marquette  6796117.0  \n",
       "2  Boston University        NaN  \n",
       "3      Georgia State  1148640.0  \n",
       "4                NaN  5000000.0  "
      ]
     },
     "execution_count": 3,
     "metadata": {},
     "output_type": "execute_result"
    }
   ],
   "source": [
    "df.head()"
   ]
  },
  {
   "cell_type": "code",
   "execution_count": 4,
   "id": "5d97ce63",
   "metadata": {},
   "outputs": [
    {
     "data": {
      "text/plain": [
       "Name         1\n",
       "Team         1\n",
       "Number       1\n",
       "Position     1\n",
       "Age          1\n",
       "Height       1\n",
       "Weight       1\n",
       "College     85\n",
       "Salary      12\n",
       "dtype: int64"
      ]
     },
     "execution_count": 4,
     "metadata": {},
     "output_type": "execute_result"
    }
   ],
   "source": [
    "df.isnull().sum()"
   ]
  },
  {
   "cell_type": "code",
   "execution_count": 5,
   "id": "3e4cdd8f",
   "metadata": {},
   "outputs": [],
   "source": [
    "df1 = df.iloc[:,[2,3,8]]"
   ]
  },
  {
   "cell_type": "code",
   "execution_count": 6,
   "id": "a1fcba73",
   "metadata": {},
   "outputs": [
    {
     "data": {
      "text/plain": [
       "Number       1\n",
       "Position     1\n",
       "Salary      12\n",
       "dtype: int64"
      ]
     },
     "execution_count": 6,
     "metadata": {},
     "output_type": "execute_result"
    }
   ],
   "source": [
    "df1.isnull().sum()"
   ]
  },
  {
   "cell_type": "code",
   "execution_count": 7,
   "id": "7ac4aa7a",
   "metadata": {},
   "outputs": [
    {
     "name": "stderr",
     "output_type": "stream",
     "text": [
      "C:\\Users\\vishn\\AppData\\Local\\Temp/ipykernel_16388/2053335143.py:1: FutureWarning: Dropping of nuisance columns in DataFrame reductions (with 'numeric_only=None') is deprecated; in a future version this will raise TypeError.  Select only valid columns before calling the reduction.\n",
      "  df1.mean()\n"
     ]
    },
    {
     "data": {
      "text/plain": [
       "Number    1.767834e+01\n",
       "Salary    4.842684e+06\n",
       "dtype: float64"
      ]
     },
     "execution_count": 7,
     "metadata": {},
     "output_type": "execute_result"
    }
   ],
   "source": [
    "df1.mean()"
   ]
  },
  {
   "cell_type": "code",
   "execution_count": 8,
   "id": "2e5e3743",
   "metadata": {},
   "outputs": [],
   "source": [
    "t = df1.groupby('Position')"
   ]
  },
  {
   "cell_type": "code",
   "execution_count": 9,
   "id": "5bada710",
   "metadata": {},
   "outputs": [
    {
     "data": {
      "text/html": [
       "<div>\n",
       "<style scoped>\n",
       "    .dataframe tbody tr th:only-of-type {\n",
       "        vertical-align: middle;\n",
       "    }\n",
       "\n",
       "    .dataframe tbody tr th {\n",
       "        vertical-align: top;\n",
       "    }\n",
       "\n",
       "    .dataframe thead th {\n",
       "        text-align: right;\n",
       "    }\n",
       "</style>\n",
       "<table border=\"1\" class=\"dataframe\">\n",
       "  <thead>\n",
       "    <tr style=\"text-align: right;\">\n",
       "      <th></th>\n",
       "      <th>Number</th>\n",
       "      <th>Salary</th>\n",
       "    </tr>\n",
       "    <tr>\n",
       "      <th>Position</th>\n",
       "      <th></th>\n",
       "      <th></th>\n",
       "    </tr>\n",
       "  </thead>\n",
       "  <tbody>\n",
       "    <tr>\n",
       "      <th>C</th>\n",
       "      <td>78</td>\n",
       "      <td>78</td>\n",
       "    </tr>\n",
       "    <tr>\n",
       "      <th>PF</th>\n",
       "      <td>100</td>\n",
       "      <td>97</td>\n",
       "    </tr>\n",
       "    <tr>\n",
       "      <th>PG</th>\n",
       "      <td>92</td>\n",
       "      <td>88</td>\n",
       "    </tr>\n",
       "    <tr>\n",
       "      <th>SF</th>\n",
       "      <td>85</td>\n",
       "      <td>84</td>\n",
       "    </tr>\n",
       "    <tr>\n",
       "      <th>SG</th>\n",
       "      <td>102</td>\n",
       "      <td>99</td>\n",
       "    </tr>\n",
       "  </tbody>\n",
       "</table>\n",
       "</div>"
      ],
      "text/plain": [
       "          Number  Salary\n",
       "Position                \n",
       "C             78      78\n",
       "PF           100      97\n",
       "PG            92      88\n",
       "SF            85      84\n",
       "SG           102      99"
      ]
     },
     "execution_count": 9,
     "metadata": {},
     "output_type": "execute_result"
    }
   ],
   "source": [
    "t.count()"
   ]
  },
  {
   "cell_type": "code",
   "execution_count": null,
   "id": "7bb7c3ab",
   "metadata": {},
   "outputs": [],
   "source": []
  },
  {
   "cell_type": "code",
   "execution_count": null,
   "id": "1843de36",
   "metadata": {},
   "outputs": [],
   "source": []
  },
  {
   "cell_type": "code",
   "execution_count": null,
   "id": "9183ec06",
   "metadata": {},
   "outputs": [],
   "source": [
    "\n"
   ]
  },
  {
   "cell_type": "code",
   "execution_count": 10,
   "id": "5ee95016",
   "metadata": {},
   "outputs": [],
   "source": [
    "m = df1.dropna()"
   ]
  },
  {
   "cell_type": "code",
   "execution_count": 11,
   "id": "e8f1c610",
   "metadata": {},
   "outputs": [],
   "source": [
    "import seaborn as sns"
   ]
  },
  {
   "cell_type": "code",
   "execution_count": 12,
   "id": "f92beff7",
   "metadata": {},
   "outputs": [],
   "source": [
    "m = df1.dropna()"
   ]
  },
  {
   "cell_type": "code",
   "execution_count": 13,
   "id": "fb4d78dc",
   "metadata": {},
   "outputs": [
    {
     "data": {
      "text/html": [
       "<div>\n",
       "<style scoped>\n",
       "    .dataframe tbody tr th:only-of-type {\n",
       "        vertical-align: middle;\n",
       "    }\n",
       "\n",
       "    .dataframe tbody tr th {\n",
       "        vertical-align: top;\n",
       "    }\n",
       "\n",
       "    .dataframe thead th {\n",
       "        text-align: right;\n",
       "    }\n",
       "</style>\n",
       "<table border=\"1\" class=\"dataframe\">\n",
       "  <thead>\n",
       "    <tr style=\"text-align: right;\">\n",
       "      <th></th>\n",
       "      <th>Number</th>\n",
       "      <th>Position</th>\n",
       "      <th>Salary</th>\n",
       "    </tr>\n",
       "  </thead>\n",
       "  <tbody>\n",
       "    <tr>\n",
       "      <th>0</th>\n",
       "      <td>0.0</td>\n",
       "      <td>PG</td>\n",
       "      <td>7730337.0</td>\n",
       "    </tr>\n",
       "    <tr>\n",
       "      <th>1</th>\n",
       "      <td>99.0</td>\n",
       "      <td>SF</td>\n",
       "      <td>6796117.0</td>\n",
       "    </tr>\n",
       "    <tr>\n",
       "      <th>3</th>\n",
       "      <td>28.0</td>\n",
       "      <td>SG</td>\n",
       "      <td>1148640.0</td>\n",
       "    </tr>\n",
       "    <tr>\n",
       "      <th>4</th>\n",
       "      <td>8.0</td>\n",
       "      <td>PF</td>\n",
       "      <td>5000000.0</td>\n",
       "    </tr>\n",
       "    <tr>\n",
       "      <th>5</th>\n",
       "      <td>90.0</td>\n",
       "      <td>PF</td>\n",
       "      <td>12000000.0</td>\n",
       "    </tr>\n",
       "    <tr>\n",
       "      <th>...</th>\n",
       "      <td>...</td>\n",
       "      <td>...</td>\n",
       "      <td>...</td>\n",
       "    </tr>\n",
       "    <tr>\n",
       "      <th>452</th>\n",
       "      <td>41.0</td>\n",
       "      <td>PF</td>\n",
       "      <td>2239800.0</td>\n",
       "    </tr>\n",
       "    <tr>\n",
       "      <th>453</th>\n",
       "      <td>8.0</td>\n",
       "      <td>PG</td>\n",
       "      <td>2433333.0</td>\n",
       "    </tr>\n",
       "    <tr>\n",
       "      <th>454</th>\n",
       "      <td>25.0</td>\n",
       "      <td>PG</td>\n",
       "      <td>900000.0</td>\n",
       "    </tr>\n",
       "    <tr>\n",
       "      <th>455</th>\n",
       "      <td>21.0</td>\n",
       "      <td>C</td>\n",
       "      <td>2900000.0</td>\n",
       "    </tr>\n",
       "    <tr>\n",
       "      <th>456</th>\n",
       "      <td>24.0</td>\n",
       "      <td>C</td>\n",
       "      <td>947276.0</td>\n",
       "    </tr>\n",
       "  </tbody>\n",
       "</table>\n",
       "<p>446 rows × 3 columns</p>\n",
       "</div>"
      ],
      "text/plain": [
       "     Number Position      Salary\n",
       "0       0.0       PG   7730337.0\n",
       "1      99.0       SF   6796117.0\n",
       "3      28.0       SG   1148640.0\n",
       "4       8.0       PF   5000000.0\n",
       "5      90.0       PF  12000000.0\n",
       "..      ...      ...         ...\n",
       "452    41.0       PF   2239800.0\n",
       "453     8.0       PG   2433333.0\n",
       "454    25.0       PG    900000.0\n",
       "455    21.0        C   2900000.0\n",
       "456    24.0        C    947276.0\n",
       "\n",
       "[446 rows x 3 columns]"
      ]
     },
     "execution_count": 13,
     "metadata": {},
     "output_type": "execute_result"
    }
   ],
   "source": [
    "m"
   ]
  },
  {
   "cell_type": "code",
   "execution_count": 14,
   "id": "32b2aeef",
   "metadata": {},
   "outputs": [
    {
     "name": "stderr",
     "output_type": "stream",
     "text": [
      "C:\\Users\\vishn\\anaconda3\\lib\\site-packages\\seaborn\\_decorators.py:36: FutureWarning: Pass the following variable as a keyword arg: x. From version 0.12, the only valid positional argument will be `data`, and passing other arguments without an explicit keyword will result in an error or misinterpretation.\n",
      "  warnings.warn(\n"
     ]
    },
    {
     "data": {
      "text/plain": [
       "<AxesSubplot:xlabel='Salary'>"
      ]
     },
     "execution_count": 14,
     "metadata": {},
     "output_type": "execute_result"
    },
    {
     "data": {
      "image/png": "[encoded data removed]",
      "text/plain": [
       "<Figure size 432x288 with 1 Axes>"
      ]
     },
     "metadata": {
      "needs_background": "light"
     },
     "output_type": "display_data"
    }
   ],
   "source": [
    "sns.boxplot(m['Salary'])"
   ]
  },
  {
   "cell_type": "code",
   "execution_count": 15,
   "id": "5e0691ec",
   "metadata": {},
   "outputs": [
    {
     "name": "stderr",
     "output_type": "stream",
     "text": [
      "C:\\Users\\vishn\\AppData\\Local\\Temp/ipykernel_16388/63148095.py:1: SettingWithCopyWarning: \n",
      "A value is trying to be set on a copy of a slice from a DataFrame.\n",
      "Try using .loc[row_indexer,col_indexer] = value instead\n",
      "\n",
      "See the caveats in the documentation: https://pandas.pydata.org/pandas-docs/stable/user_guide/indexing.html#returning-a-view-versus-a-copy\n",
      "  df1['Salary'] = df1['Salary'].fillna(df1['Salary'].mode()[0])\n"
     ]
    }
   ],
   "source": [
    "\n",
    "df1['Salary'] = df1['Salary'].fillna(df1['Salary'].mode()[0])"
   ]
  },
  {
   "cell_type": "code",
   "execution_count": 16,
   "id": "87dbf4a7",
   "metadata": {},
   "outputs": [
    {
     "data": {
      "text/plain": [
       "0"
      ]
     },
     "execution_count": 16,
     "metadata": {},
     "output_type": "execute_result"
    }
   ],
   "source": [
    "df1['Salary'].isnull().sum()"
   ]
  },
  {
   "cell_type": "code",
   "execution_count": 17,
   "id": "fe5c255b",
   "metadata": {},
   "outputs": [
    {
     "data": {
      "text/plain": [
       "Number      1\n",
       "Position    1\n",
       "Salary      0\n",
       "dtype: int64"
      ]
     },
     "execution_count": 17,
     "metadata": {},
     "output_type": "execute_result"
    }
   ],
   "source": [
    "df1.isna().sum()"
   ]
  },
  {
   "cell_type": "code",
   "execution_count": 32,
   "id": "c770d210",
   "metadata": {},
   "outputs": [
    {
     "name": "stderr",
     "output_type": "stream",
     "text": [
      "C:\\Users\\vishn\\anaconda3\\lib\\site-packages\\pandas\\util\\_decorators.py:311: SettingWithCopyWarning: \n",
      "A value is trying to be set on a copy of a slice from a DataFrame\n",
      "\n",
      "See the caveats in the documentation: https://pandas.pydata.org/pandas-docs/stable/user_guide/indexing.html#returning-a-view-versus-a-copy\n",
      "  return func(*args, **kwargs)\n"
     ]
    }
   ],
   "source": [
    "df1.dropna(inplace=True)"
   ]
  },
  {
   "cell_type": "code",
   "execution_count": 33,
   "id": "0a2df84f",
   "metadata": {},
   "outputs": [
    {
     "data": {
      "text/html": [
       "<div>\n",
       "<style scoped>\n",
       "    .dataframe tbody tr th:only-of-type {\n",
       "        vertical-align: middle;\n",
       "    }\n",
       "\n",
       "    .dataframe tbody tr th {\n",
       "        vertical-align: top;\n",
       "    }\n",
       "\n",
       "    .dataframe thead th {\n",
       "        text-align: right;\n",
       "    }\n",
       "</style>\n",
       "<table border=\"1\" class=\"dataframe\">\n",
       "  <thead>\n",
       "    <tr style=\"text-align: right;\">\n",
       "      <th></th>\n",
       "      <th>Number</th>\n",
       "      <th>Position</th>\n",
       "      <th>Salary</th>\n",
       "      <th>Position_new</th>\n",
       "    </tr>\n",
       "  </thead>\n",
       "  <tbody>\n",
       "    <tr>\n",
       "      <th>0</th>\n",
       "      <td>0.0</td>\n",
       "      <td>PG</td>\n",
       "      <td>7730337.0</td>\n",
       "      <td>2</td>\n",
       "    </tr>\n",
       "    <tr>\n",
       "      <th>1</th>\n",
       "      <td>99.0</td>\n",
       "      <td>SF</td>\n",
       "      <td>6796117.0</td>\n",
       "      <td>3</td>\n",
       "    </tr>\n",
       "    <tr>\n",
       "      <th>2</th>\n",
       "      <td>30.0</td>\n",
       "      <td>SG</td>\n",
       "      <td>947276.0</td>\n",
       "      <td>4</td>\n",
       "    </tr>\n",
       "    <tr>\n",
       "      <th>3</th>\n",
       "      <td>28.0</td>\n",
       "      <td>SG</td>\n",
       "      <td>1148640.0</td>\n",
       "      <td>4</td>\n",
       "    </tr>\n",
       "    <tr>\n",
       "      <th>4</th>\n",
       "      <td>8.0</td>\n",
       "      <td>PF</td>\n",
       "      <td>5000000.0</td>\n",
       "      <td>1</td>\n",
       "    </tr>\n",
       "    <tr>\n",
       "      <th>5</th>\n",
       "      <td>90.0</td>\n",
       "      <td>PF</td>\n",
       "      <td>12000000.0</td>\n",
       "      <td>1</td>\n",
       "    </tr>\n",
       "    <tr>\n",
       "      <th>6</th>\n",
       "      <td>55.0</td>\n",
       "      <td>PF</td>\n",
       "      <td>1170960.0</td>\n",
       "      <td>1</td>\n",
       "    </tr>\n",
       "    <tr>\n",
       "      <th>7</th>\n",
       "      <td>41.0</td>\n",
       "      <td>C</td>\n",
       "      <td>2165160.0</td>\n",
       "      <td>0</td>\n",
       "    </tr>\n",
       "    <tr>\n",
       "      <th>8</th>\n",
       "      <td>12.0</td>\n",
       "      <td>PG</td>\n",
       "      <td>1824360.0</td>\n",
       "      <td>2</td>\n",
       "    </tr>\n",
       "    <tr>\n",
       "      <th>9</th>\n",
       "      <td>36.0</td>\n",
       "      <td>PG</td>\n",
       "      <td>3431040.0</td>\n",
       "      <td>2</td>\n",
       "    </tr>\n",
       "  </tbody>\n",
       "</table>\n",
       "</div>"
      ],
      "text/plain": [
       "   Number Position      Salary  Position_new\n",
       "0     0.0       PG   7730337.0             2\n",
       "1    99.0       SF   6796117.0             3\n",
       "2    30.0       SG    947276.0             4\n",
       "3    28.0       SG   1148640.0             4\n",
       "4     8.0       PF   5000000.0             1\n",
       "5    90.0       PF  12000000.0             1\n",
       "6    55.0       PF   1170960.0             1\n",
       "7    41.0        C   2165160.0             0\n",
       "8    12.0       PG   1824360.0             2\n",
       "9    36.0       PG   3431040.0             2"
      ]
     },
     "execution_count": 33,
     "metadata": {},
     "output_type": "execute_result"
    }
   ],
   "source": [
    "df1.head(10)"
   ]
  },
  {
   "cell_type": "code",
   "execution_count": 34,
   "id": "17015093",
   "metadata": {},
   "outputs": [],
   "source": [
    "t = df1.groupby(['Position']).count()"
   ]
  },
  {
   "cell_type": "code",
   "execution_count": 35,
   "id": "bc69c7d1",
   "metadata": {},
   "outputs": [
    {
     "data": {
      "text/plain": [
       "5"
      ]
     },
     "execution_count": 35,
     "metadata": {},
     "output_type": "execute_result"
    }
   ],
   "source": [
    "t1 = list(t.shape)\n",
    "t1[0]\n"
   ]
  },
  {
   "cell_type": "code",
   "execution_count": 22,
   "id": "554af813",
   "metadata": {},
   "outputs": [],
   "source": [
    "from sklearn.preprocessing import LabelEncoder"
   ]
  },
  {
   "cell_type": "code",
   "execution_count": 23,
   "id": "2f82acbf",
   "metadata": {},
   "outputs": [],
   "source": [
    "le = LabelEncoder()"
   ]
  },
  {
   "cell_type": "code",
   "execution_count": 36,
   "id": "25b220a7",
   "metadata": {},
   "outputs": [
    {
     "name": "stderr",
     "output_type": "stream",
     "text": [
      "C:\\Users\\vishn\\AppData\\Local\\Temp/ipykernel_16388/3645903406.py:1: SettingWithCopyWarning: \n",
      "A value is trying to be set on a copy of a slice from a DataFrame.\n",
      "Try using .loc[row_indexer,col_indexer] = value instead\n",
      "\n",
      "See the caveats in the documentation: https://pandas.pydata.org/pandas-docs/stable/user_guide/indexing.html#returning-a-view-versus-a-copy\n",
      "  df1['Position_new'] = le.fit_transform(df1['Position'])\n"
     ]
    }
   ],
   "source": [
    "df1['Position_new'] = le.fit_transform(df1['Position'])"
   ]
  },
  {
   "cell_type": "code",
   "execution_count": 25,
   "id": "4df48872",
   "metadata": {},
   "outputs": [
    {
     "data": {
      "text/html": [
       "<div>\n",
       "<style scoped>\n",
       "    .dataframe tbody tr th:only-of-type {\n",
       "        vertical-align: middle;\n",
       "    }\n",
       "\n",
       "    .dataframe tbody tr th {\n",
       "        vertical-align: top;\n",
       "    }\n",
       "\n",
       "    .dataframe thead th {\n",
       "        text-align: right;\n",
       "    }\n",
       "</style>\n",
       "<table border=\"1\" class=\"dataframe\">\n",
       "  <thead>\n",
       "    <tr style=\"text-align: right;\">\n",
       "      <th></th>\n",
       "      <th>Number</th>\n",
       "      <th>Position</th>\n",
       "      <th>Salary</th>\n",
       "      <th>Position_new</th>\n",
       "    </tr>\n",
       "  </thead>\n",
       "  <tbody>\n",
       "    <tr>\n",
       "      <th>0</th>\n",
       "      <td>0.0</td>\n",
       "      <td>PG</td>\n",
       "      <td>7730337.0</td>\n",
       "      <td>2</td>\n",
       "    </tr>\n",
       "    <tr>\n",
       "      <th>1</th>\n",
       "      <td>99.0</td>\n",
       "      <td>SF</td>\n",
       "      <td>6796117.0</td>\n",
       "      <td>3</td>\n",
       "    </tr>\n",
       "    <tr>\n",
       "      <th>2</th>\n",
       "      <td>30.0</td>\n",
       "      <td>SG</td>\n",
       "      <td>947276.0</td>\n",
       "      <td>4</td>\n",
       "    </tr>\n",
       "    <tr>\n",
       "      <th>3</th>\n",
       "      <td>28.0</td>\n",
       "      <td>SG</td>\n",
       "      <td>1148640.0</td>\n",
       "      <td>4</td>\n",
       "    </tr>\n",
       "    <tr>\n",
       "      <th>4</th>\n",
       "      <td>8.0</td>\n",
       "      <td>PF</td>\n",
       "      <td>5000000.0</td>\n",
       "      <td>1</td>\n",
       "    </tr>\n",
       "    <tr>\n",
       "      <th>...</th>\n",
       "      <td>...</td>\n",
       "      <td>...</td>\n",
       "      <td>...</td>\n",
       "      <td>...</td>\n",
       "    </tr>\n",
       "    <tr>\n",
       "      <th>452</th>\n",
       "      <td>41.0</td>\n",
       "      <td>PF</td>\n",
       "      <td>2239800.0</td>\n",
       "      <td>1</td>\n",
       "    </tr>\n",
       "    <tr>\n",
       "      <th>453</th>\n",
       "      <td>8.0</td>\n",
       "      <td>PG</td>\n",
       "      <td>2433333.0</td>\n",
       "      <td>2</td>\n",
       "    </tr>\n",
       "    <tr>\n",
       "      <th>454</th>\n",
       "      <td>25.0</td>\n",
       "      <td>PG</td>\n",
       "      <td>900000.0</td>\n",
       "      <td>2</td>\n",
       "    </tr>\n",
       "    <tr>\n",
       "      <th>455</th>\n",
       "      <td>21.0</td>\n",
       "      <td>C</td>\n",
       "      <td>2900000.0</td>\n",
       "      <td>0</td>\n",
       "    </tr>\n",
       "    <tr>\n",
       "      <th>456</th>\n",
       "      <td>24.0</td>\n",
       "      <td>C</td>\n",
       "      <td>947276.0</td>\n",
       "      <td>0</td>\n",
       "    </tr>\n",
       "  </tbody>\n",
       "</table>\n",
       "<p>457 rows × 4 columns</p>\n",
       "</div>"
      ],
      "text/plain": [
       "     Number Position     Salary  Position_new\n",
       "0       0.0       PG  7730337.0             2\n",
       "1      99.0       SF  6796117.0             3\n",
       "2      30.0       SG   947276.0             4\n",
       "3      28.0       SG  1148640.0             4\n",
       "4       8.0       PF  5000000.0             1\n",
       "..      ...      ...        ...           ...\n",
       "452    41.0       PF  2239800.0             1\n",
       "453     8.0       PG  2433333.0             2\n",
       "454    25.0       PG   900000.0             2\n",
       "455    21.0        C  2900000.0             0\n",
       "456    24.0        C   947276.0             0\n",
       "\n",
       "[457 rows x 4 columns]"
      ]
     },
     "execution_count": 25,
     "metadata": {},
     "output_type": "execute_result"
    }
   ],
   "source": [
    "df1"
   ]
  },
  {
   "cell_type": "code",
   "execution_count": 26,
   "id": "887b0232",
   "metadata": {},
   "outputs": [],
   "source": [
    "#df1.drop(['Position'],axis=1)"
   ]
  },
  {
   "cell_type": "code",
   "execution_count": 27,
   "id": "8c117d7f",
   "metadata": {},
   "outputs": [],
   "source": [
    "from sklearn.preprocessing import OneHotEncoder"
   ]
  },
  {
   "cell_type": "code",
   "execution_count": 28,
   "id": "6b047797",
   "metadata": {},
   "outputs": [],
   "source": [
    "OneHotEncoder?"
   ]
  },
  {
   "cell_type": "code",
   "execution_count": 29,
   "id": "9763c8bb",
   "metadata": {},
   "outputs": [],
   "source": [
    "ohe = OneHotEncoder(sparse='False',handle_unknown='error',drop='first')"
   ]
  },
  {
   "cell_type": "code",
   "execution_count": 30,
   "id": "5e9660c4",
   "metadata": {},
   "outputs": [],
   "source": [
    "np.reshape?"
   ]
  },
  {
   "cell_type": "code",
   "execution_count": 31,
   "id": "7e374f96",
   "metadata": {},
   "outputs": [
    {
     "ename": "ValueError",
     "evalue": "Expected 2D array, got 1D array instead:\narray=['PG' 'SF' 'SG' 'SG' 'PF' 'PF' 'PF' 'C' 'PG' 'PG' 'C' 'PG' 'SG' 'SG' 'C'\n 'SG' 'SG' 'SG' 'SG' 'PG' 'SG' 'SG' 'PG' 'C' 'PF' 'PF' 'PF' 'C' 'PG' 'PF'\n 'SG' 'PF' 'SF' 'SF' 'PG' 'SF' 'SG' 'PG' 'C' 'PF' 'PF' 'C' 'SF' 'SG' 'PF'\n 'SG' 'PF' 'PG' 'SF' 'C' 'SF' 'PF' 'PF' 'PG' 'PG' 'PF' 'C' 'PG' 'SG' 'SG'\n 'PF' 'C' 'SF' 'SF' 'SG' 'PF' 'PG' 'PG' 'C' 'PF' 'SG' 'SF' 'PF' 'PF' 'C'\n 'PG' 'SG' 'SF' 'C' 'SG' 'PG' 'C' 'PF' 'SF' 'PG' 'SF' 'SF' 'SF' 'C' 'SG'\n 'PF' 'C' 'PF' 'SG' 'SF' 'SF' 'PF' 'SF' 'C' 'PF' 'PG' 'SF' 'PG' 'SG' 'PG'\n 'SG' 'PF' 'C' 'SF' 'SF' 'PG' 'C' 'PG' 'PF' 'PF' 'PF' 'PG' 'C' 'SG' 'SF'\n 'SF' 'PG' 'SG' 'SF' 'C' 'SG' 'SG' 'PG' 'C' 'PF' 'PG' 'PG' 'PF' 'SF' 'SF'\n 'C' 'SF' 'SG' 'SG' 'SF' 'SF' 'C' 'PG' 'C' 'SG' 'PF' 'SF' 'C' 'SG' 'PF'\n 'PG' 'PF' 'PG' 'SG' 'SG' 'PF' 'C' 'PF' 'SG' 'SF' 'PF' 'SG' 'C' 'PF' 'PG'\n 'SF' 'PG' 'PF' 'PG' 'SF' 'SF' 'SG' 'SG' 'C' 'PF' 'SG' 'C' 'SG' 'SG' 'C'\n 'PG' 'C' 'C' 'PG' 'PG' 'SF' 'SG' 'PG' 'C' 'SF' 'SF' 'PG' 'SF' 'SG' 'PF'\n 'PF' 'PF' 'PF' 'SG' 'SF' 'PG' 'C' 'SF' 'PG' 'C' 'SF' 'SG' 'PG' 'PF' 'PF'\n 'PG' 'SF' 'PG' 'PG' 'SG' 'PG' 'PF' 'SF' 'SG' 'SG' 'C' 'SF' 'PF' 'PF' 'C'\n 'PG' 'SG' 'SG' 'PG' 'SF' 'PG' 'PG' 'PF' 'SG' 'C' 'C' 'PF' 'C' 'SF' 'PF'\n 'PF' 'PG' 'SF' 'SF' 'PG' 'SG' 'PF' 'SF' 'PG' 'SG' 'PF' 'C' 'PF' 'SG' 'PF'\n 'C' 'SG' 'SG' 'SG' 'PF' 'SF' 'SG' 'PG' 'PG' 'PG' 'C' 'PF' 'SF' 'PF' 'PG'\n 'PG' 'PF' 'SF' 'PF' 'PF' 'C' 'PF' 'C' 'SF' 'PG' 'PF' 'PF' 'SG' 'PG' 'SF'\n 'SG' 'PG' 'SF' 'SG' 'SG' 'PG' 'SG' 'C' 'SF' 'PF' 'SF' 'C' 'C' 'C' 'SG'\n 'SG' 'SF' 'C' 'SG' 'PG' 'PG' 'PG' 'SG' 'PF' 'SF' 'SG' 'SG' 'C' 'PF' 'SG'\n 'PF' 'PF' 'SG' 'PG' 'PF' 'SF' 'C' 'C' 'PG' 'SG' 'SG' 'PG' 'PF' 'SG' 'PF'\n 'C' 'C' 'SF' 'SG' 'SG' 'PG' 'PG' 'PF' 'C' 'PF' 'SF' 'PG' 'SF' 'PF' 'SF'\n 'SG' 'PF' 'SG' 'PF' 'SG' 'PG' 'C' 'SF' 'SF' 'C' 'SG' 'PF' 'SG' 'PF' 'PG'\n 'SF' 'PG' 'PF' 'SG' 'PG' 'PF' 'C' 'PG' 'SG' 'SG' 'SF' 'SG' 'PF' 'C' 'C'\n 'C' 'PF' 'SF' 'SF' 'PG' 'SG' 'SF' 'PG' 'PF' 'PG' 'SF' 'SF' 'PF' 'SF' 'SG'\n 'C' 'C' 'SG' 'PG' 'PG' 'C' 'SG' 'SG' 'PF' 'C' 'PF' 'PG' 'PG' 'SF' 'PF'\n 'C' 'SF' 'PG' 'SF' 'PF' 'C' 'SG' 'C' 'PF' 'SF' 'SG' 'SF' 'PF' 'C' 'PF'\n 'C' 'SG' 'PG' 'SG' 'SF' 'SG' 'PG' 'PF' 'SF' 'SG' 'SG' 'C' 'SF' 'SG' 'C'\n 'PF' 'PG' 'SG' 'SG' 'C' 'PG' 'PF' 'PF' 'PG' 'SG' 'PG' 'PF' 'C' 'SF' 'SG'\n 'SF' 'SF' 'PF' 'PG' 'PG' 'C' 'C'].\nReshape your data either using array.reshape(-1, 1) if your data has a single feature or array.reshape(1, -1) if it contains a single sample.",
     "output_type": "error",
     "traceback": [
      "\u001b[1;31m---------------------------------------------------------------------------\u001b[0m",
      "\u001b[1;31mValueError\u001b[0m                                Traceback (most recent call last)",
      "\u001b[1;32m~\\AppData\\Local\\Temp/ipykernel_16388/1282263370.py\u001b[0m in \u001b[0;36m<module>\u001b[1;34m\u001b[0m\n\u001b[1;32m----> 1\u001b[1;33m \u001b[0mohe\u001b[0m\u001b[1;33m.\u001b[0m\u001b[0mfit_transform\u001b[0m\u001b[1;33m(\u001b[0m\u001b[0mdf1\u001b[0m\u001b[1;33m[\u001b[0m\u001b[1;34m'Position'\u001b[0m\u001b[1;33m]\u001b[0m\u001b[1;33m)\u001b[0m\u001b[1;33m\u001b[0m\u001b[1;33m\u001b[0m\u001b[0m\n\u001b[0m",
      "\u001b[1;32m~\\anaconda3\\lib\\site-packages\\sklearn\\preprocessing\\_encoders.py\u001b[0m in \u001b[0;36mfit_transform\u001b[1;34m(self, X, y)\u001b[0m\n\u001b[0;32m    449\u001b[0m         \"\"\"\n\u001b[0;32m    450\u001b[0m         \u001b[0mself\u001b[0m\u001b[1;33m.\u001b[0m\u001b[0m_validate_keywords\u001b[0m\u001b[1;33m(\u001b[0m\u001b[1;33m)\u001b[0m\u001b[1;33m\u001b[0m\u001b[1;33m\u001b[0m\u001b[0m\n\u001b[1;32m--> 451\u001b[1;33m         \u001b[1;32mreturn\u001b[0m \u001b[0msuper\u001b[0m\u001b[1;33m(\u001b[0m\u001b[1;33m)\u001b[0m\u001b[1;33m.\u001b[0m\u001b[0mfit_transform\u001b[0m\u001b[1;33m(\u001b[0m\u001b[0mX\u001b[0m\u001b[1;33m,\u001b[0m \u001b[0my\u001b[0m\u001b[1;33m)\u001b[0m\u001b[1;33m\u001b[0m\u001b[1;33m\u001b[0m\u001b[0m\n\u001b[0m\u001b[0;32m    452\u001b[0m \u001b[1;33m\u001b[0m\u001b[0m\n\u001b[0;32m    453\u001b[0m     \u001b[1;32mdef\u001b[0m \u001b[0mtransform\u001b[0m\u001b[1;33m(\u001b[0m\u001b[0mself\u001b[0m\u001b[1;33m,\u001b[0m \u001b[0mX\u001b[0m\u001b[1;33m)\u001b[0m\u001b[1;33m:\u001b[0m\u001b[1;33m\u001b[0m\u001b[1;33m\u001b[0m\u001b[0m\n",
      "\u001b[1;32m~\\anaconda3\\lib\\site-packages\\sklearn\\base.py\u001b[0m in \u001b[0;36mfit_transform\u001b[1;34m(self, X, y, **fit_params)\u001b[0m\n\u001b[0;32m    697\u001b[0m         \u001b[1;32mif\u001b[0m \u001b[0my\u001b[0m \u001b[1;32mis\u001b[0m \u001b[1;32mNone\u001b[0m\u001b[1;33m:\u001b[0m\u001b[1;33m\u001b[0m\u001b[1;33m\u001b[0m\u001b[0m\n\u001b[0;32m    698\u001b[0m             \u001b[1;31m# fit method of arity 1 (unsupervised transformation)\u001b[0m\u001b[1;33m\u001b[0m\u001b[1;33m\u001b[0m\u001b[0m\n\u001b[1;32m--> 699\u001b[1;33m             \u001b[1;32mreturn\u001b[0m \u001b[0mself\u001b[0m\u001b[1;33m.\u001b[0m\u001b[0mfit\u001b[0m\u001b[1;33m(\u001b[0m\u001b[0mX\u001b[0m\u001b[1;33m,\u001b[0m \u001b[1;33m**\u001b[0m\u001b[0mfit_params\u001b[0m\u001b[1;33m)\u001b[0m\u001b[1;33m.\u001b[0m\u001b[0mtransform\u001b[0m\u001b[1;33m(\u001b[0m\u001b[0mX\u001b[0m\u001b[1;33m)\u001b[0m\u001b[1;33m\u001b[0m\u001b[1;33m\u001b[0m\u001b[0m\n\u001b[0m\u001b[0;32m    700\u001b[0m         \u001b[1;32melse\u001b[0m\u001b[1;33m:\u001b[0m\u001b[1;33m\u001b[0m\u001b[1;33m\u001b[0m\u001b[0m\n\u001b[0;32m    701\u001b[0m             \u001b[1;31m# fit method of arity 2 (supervised transformation)\u001b[0m\u001b[1;33m\u001b[0m\u001b[1;33m\u001b[0m\u001b[0m\n",
      "\u001b[1;32m~\\anaconda3\\lib\\site-packages\\sklearn\\preprocessing\\_encoders.py\u001b[0m in \u001b[0;36mfit\u001b[1;34m(self, X, y)\u001b[0m\n\u001b[0;32m    421\u001b[0m         \"\"\"\n\u001b[0;32m    422\u001b[0m         \u001b[0mself\u001b[0m\u001b[1;33m.\u001b[0m\u001b[0m_validate_keywords\u001b[0m\u001b[1;33m(\u001b[0m\u001b[1;33m)\u001b[0m\u001b[1;33m\u001b[0m\u001b[1;33m\u001b[0m\u001b[0m\n\u001b[1;32m--> 423\u001b[1;33m         self._fit(X, handle_unknown=self.handle_unknown,\n\u001b[0m\u001b[0;32m    424\u001b[0m                   force_all_finite='allow-nan')\n\u001b[0;32m    425\u001b[0m         \u001b[0mself\u001b[0m\u001b[1;33m.\u001b[0m\u001b[0mdrop_idx_\u001b[0m \u001b[1;33m=\u001b[0m \u001b[0mself\u001b[0m\u001b[1;33m.\u001b[0m\u001b[0m_compute_drop_idx\u001b[0m\u001b[1;33m(\u001b[0m\u001b[1;33m)\u001b[0m\u001b[1;33m\u001b[0m\u001b[1;33m\u001b[0m\u001b[0m\n",
      "\u001b[1;32m~\\anaconda3\\lib\\site-packages\\sklearn\\preprocessing\\_encoders.py\u001b[0m in \u001b[0;36m_fit\u001b[1;34m(self, X, handle_unknown, force_all_finite)\u001b[0m\n\u001b[0;32m     75\u001b[0m \u001b[1;33m\u001b[0m\u001b[0m\n\u001b[0;32m     76\u001b[0m     \u001b[1;32mdef\u001b[0m \u001b[0m_fit\u001b[0m\u001b[1;33m(\u001b[0m\u001b[0mself\u001b[0m\u001b[1;33m,\u001b[0m \u001b[0mX\u001b[0m\u001b[1;33m,\u001b[0m \u001b[0mhandle_unknown\u001b[0m\u001b[1;33m=\u001b[0m\u001b[1;34m'error'\u001b[0m\u001b[1;33m,\u001b[0m \u001b[0mforce_all_finite\u001b[0m\u001b[1;33m=\u001b[0m\u001b[1;32mTrue\u001b[0m\u001b[1;33m)\u001b[0m\u001b[1;33m:\u001b[0m\u001b[1;33m\u001b[0m\u001b[1;33m\u001b[0m\u001b[0m\n\u001b[1;32m---> 77\u001b[1;33m         X_list, n_samples, n_features = self._check_X(\n\u001b[0m\u001b[0;32m     78\u001b[0m             X, force_all_finite=force_all_finite)\n\u001b[0;32m     79\u001b[0m \u001b[1;33m\u001b[0m\u001b[0m\n",
      "\u001b[1;32m~\\anaconda3\\lib\\site-packages\\sklearn\\preprocessing\\_encoders.py\u001b[0m in \u001b[0;36m_check_X\u001b[1;34m(self, X, force_all_finite)\u001b[0m\n\u001b[0;32m     42\u001b[0m         \u001b[1;32mif\u001b[0m \u001b[1;32mnot\u001b[0m \u001b[1;33m(\u001b[0m\u001b[0mhasattr\u001b[0m\u001b[1;33m(\u001b[0m\u001b[0mX\u001b[0m\u001b[1;33m,\u001b[0m \u001b[1;34m'iloc'\u001b[0m\u001b[1;33m)\u001b[0m \u001b[1;32mand\u001b[0m \u001b[0mgetattr\u001b[0m\u001b[1;33m(\u001b[0m\u001b[0mX\u001b[0m\u001b[1;33m,\u001b[0m \u001b[1;34m'ndim'\u001b[0m\u001b[1;33m,\u001b[0m \u001b[1;36m0\u001b[0m\u001b[1;33m)\u001b[0m \u001b[1;33m==\u001b[0m \u001b[1;36m2\u001b[0m\u001b[1;33m)\u001b[0m\u001b[1;33m:\u001b[0m\u001b[1;33m\u001b[0m\u001b[1;33m\u001b[0m\u001b[0m\n\u001b[0;32m     43\u001b[0m             \u001b[1;31m# if not a dataframe, do normal check_array validation\u001b[0m\u001b[1;33m\u001b[0m\u001b[1;33m\u001b[0m\u001b[0m\n\u001b[1;32m---> 44\u001b[1;33m             X_temp = check_array(X, dtype=None,\n\u001b[0m\u001b[0;32m     45\u001b[0m                                  force_all_finite=force_all_finite)\n\u001b[0;32m     46\u001b[0m             if (not hasattr(X, 'dtype')\n",
      "\u001b[1;32m~\\anaconda3\\lib\\site-packages\\sklearn\\utils\\validation.py\u001b[0m in \u001b[0;36minner_f\u001b[1;34m(*args, **kwargs)\u001b[0m\n\u001b[0;32m     61\u001b[0m             \u001b[0mextra_args\u001b[0m \u001b[1;33m=\u001b[0m \u001b[0mlen\u001b[0m\u001b[1;33m(\u001b[0m\u001b[0margs\u001b[0m\u001b[1;33m)\u001b[0m \u001b[1;33m-\u001b[0m \u001b[0mlen\u001b[0m\u001b[1;33m(\u001b[0m\u001b[0mall_args\u001b[0m\u001b[1;33m)\u001b[0m\u001b[1;33m\u001b[0m\u001b[1;33m\u001b[0m\u001b[0m\n\u001b[0;32m     62\u001b[0m             \u001b[1;32mif\u001b[0m \u001b[0mextra_args\u001b[0m \u001b[1;33m<=\u001b[0m \u001b[1;36m0\u001b[0m\u001b[1;33m:\u001b[0m\u001b[1;33m\u001b[0m\u001b[1;33m\u001b[0m\u001b[0m\n\u001b[1;32m---> 63\u001b[1;33m                 \u001b[1;32mreturn\u001b[0m \u001b[0mf\u001b[0m\u001b[1;33m(\u001b[0m\u001b[1;33m*\u001b[0m\u001b[0margs\u001b[0m\u001b[1;33m,\u001b[0m \u001b[1;33m**\u001b[0m\u001b[0mkwargs\u001b[0m\u001b[1;33m)\u001b[0m\u001b[1;33m\u001b[0m\u001b[1;33m\u001b[0m\u001b[0m\n\u001b[0m\u001b[0;32m     64\u001b[0m \u001b[1;33m\u001b[0m\u001b[0m\n\u001b[0;32m     65\u001b[0m             \u001b[1;31m# extra_args > 0\u001b[0m\u001b[1;33m\u001b[0m\u001b[1;33m\u001b[0m\u001b[0m\n",
      "\u001b[1;32m~\\anaconda3\\lib\\site-packages\\sklearn\\utils\\validation.py\u001b[0m in \u001b[0;36mcheck_array\u001b[1;34m(array, accept_sparse, accept_large_sparse, dtype, order, copy, force_all_finite, ensure_2d, allow_nd, ensure_min_samples, ensure_min_features, estimator)\u001b[0m\n\u001b[0;32m    692\u001b[0m             \u001b[1;31m# If input is 1D raise error\u001b[0m\u001b[1;33m\u001b[0m\u001b[1;33m\u001b[0m\u001b[0m\n\u001b[0;32m    693\u001b[0m             \u001b[1;32mif\u001b[0m \u001b[0marray\u001b[0m\u001b[1;33m.\u001b[0m\u001b[0mndim\u001b[0m \u001b[1;33m==\u001b[0m \u001b[1;36m1\u001b[0m\u001b[1;33m:\u001b[0m\u001b[1;33m\u001b[0m\u001b[1;33m\u001b[0m\u001b[0m\n\u001b[1;32m--> 694\u001b[1;33m                 raise ValueError(\n\u001b[0m\u001b[0;32m    695\u001b[0m                     \u001b[1;34m\"Expected 2D array, got 1D array instead:\\narray={}.\\n\"\u001b[0m\u001b[1;33m\u001b[0m\u001b[1;33m\u001b[0m\u001b[0m\n\u001b[0;32m    696\u001b[0m                     \u001b[1;34m\"Reshape your data either using array.reshape(-1, 1) if \"\u001b[0m\u001b[1;33m\u001b[0m\u001b[1;33m\u001b[0m\u001b[0m\n",
      "\u001b[1;31mValueError\u001b[0m: Expected 2D array, got 1D array instead:\narray=['PG' 'SF' 'SG' 'SG' 'PF' 'PF' 'PF' 'C' 'PG' 'PG' 'C' 'PG' 'SG' 'SG' 'C'\n 'SG' 'SG' 'SG' 'SG' 'PG' 'SG' 'SG' 'PG' 'C' 'PF' 'PF' 'PF' 'C' 'PG' 'PF'\n 'SG' 'PF' 'SF' 'SF' 'PG' 'SF' 'SG' 'PG' 'C' 'PF' 'PF' 'C' 'SF' 'SG' 'PF'\n 'SG' 'PF' 'PG' 'SF' 'C' 'SF' 'PF' 'PF' 'PG' 'PG' 'PF' 'C' 'PG' 'SG' 'SG'\n 'PF' 'C' 'SF' 'SF' 'SG' 'PF' 'PG' 'PG' 'C' 'PF' 'SG' 'SF' 'PF' 'PF' 'C'\n 'PG' 'SG' 'SF' 'C' 'SG' 'PG' 'C' 'PF' 'SF' 'PG' 'SF' 'SF' 'SF' 'C' 'SG'\n 'PF' 'C' 'PF' 'SG' 'SF' 'SF' 'PF' 'SF' 'C' 'PF' 'PG' 'SF' 'PG' 'SG' 'PG'\n 'SG' 'PF' 'C' 'SF' 'SF' 'PG' 'C' 'PG' 'PF' 'PF' 'PF' 'PG' 'C' 'SG' 'SF'\n 'SF' 'PG' 'SG' 'SF' 'C' 'SG' 'SG' 'PG' 'C' 'PF' 'PG' 'PG' 'PF' 'SF' 'SF'\n 'C' 'SF' 'SG' 'SG' 'SF' 'SF' 'C' 'PG' 'C' 'SG' 'PF' 'SF' 'C' 'SG' 'PF'\n 'PG' 'PF' 'PG' 'SG' 'SG' 'PF' 'C' 'PF' 'SG' 'SF' 'PF' 'SG' 'C' 'PF' 'PG'\n 'SF' 'PG' 'PF' 'PG' 'SF' 'SF' 'SG' 'SG' 'C' 'PF' 'SG' 'C' 'SG' 'SG' 'C'\n 'PG' 'C' 'C' 'PG' 'PG' 'SF' 'SG' 'PG' 'C' 'SF' 'SF' 'PG' 'SF' 'SG' 'PF'\n 'PF' 'PF' 'PF' 'SG' 'SF' 'PG' 'C' 'SF' 'PG' 'C' 'SF' 'SG' 'PG' 'PF' 'PF'\n 'PG' 'SF' 'PG' 'PG' 'SG' 'PG' 'PF' 'SF' 'SG' 'SG' 'C' 'SF' 'PF' 'PF' 'C'\n 'PG' 'SG' 'SG' 'PG' 'SF' 'PG' 'PG' 'PF' 'SG' 'C' 'C' 'PF' 'C' 'SF' 'PF'\n 'PF' 'PG' 'SF' 'SF' 'PG' 'SG' 'PF' 'SF' 'PG' 'SG' 'PF' 'C' 'PF' 'SG' 'PF'\n 'C' 'SG' 'SG' 'SG' 'PF' 'SF' 'SG' 'PG' 'PG' 'PG' 'C' 'PF' 'SF' 'PF' 'PG'\n 'PG' 'PF' 'SF' 'PF' 'PF' 'C' 'PF' 'C' 'SF' 'PG' 'PF' 'PF' 'SG' 'PG' 'SF'\n 'SG' 'PG' 'SF' 'SG' 'SG' 'PG' 'SG' 'C' 'SF' 'PF' 'SF' 'C' 'C' 'C' 'SG'\n 'SG' 'SF' 'C' 'SG' 'PG' 'PG' 'PG' 'SG' 'PF' 'SF' 'SG' 'SG' 'C' 'PF' 'SG'\n 'PF' 'PF' 'SG' 'PG' 'PF' 'SF' 'C' 'C' 'PG' 'SG' 'SG' 'PG' 'PF' 'SG' 'PF'\n 'C' 'C' 'SF' 'SG' 'SG' 'PG' 'PG' 'PF' 'C' 'PF' 'SF' 'PG' 'SF' 'PF' 'SF'\n 'SG' 'PF' 'SG' 'PF' 'SG' 'PG' 'C' 'SF' 'SF' 'C' 'SG' 'PF' 'SG' 'PF' 'PG'\n 'SF' 'PG' 'PF' 'SG' 'PG' 'PF' 'C' 'PG' 'SG' 'SG' 'SF' 'SG' 'PF' 'C' 'C'\n 'C' 'PF' 'SF' 'SF' 'PG' 'SG' 'SF' 'PG' 'PF' 'PG' 'SF' 'SF' 'PF' 'SF' 'SG'\n 'C' 'C' 'SG' 'PG' 'PG' 'C' 'SG' 'SG' 'PF' 'C' 'PF' 'PG' 'PG' 'SF' 'PF'\n 'C' 'SF' 'PG' 'SF' 'PF' 'C' 'SG' 'C' 'PF' 'SF' 'SG' 'SF' 'PF' 'C' 'PF'\n 'C' 'SG' 'PG' 'SG' 'SF' 'SG' 'PG' 'PF' 'SF' 'SG' 'SG' 'C' 'SF' 'SG' 'C'\n 'PF' 'PG' 'SG' 'SG' 'C' 'PG' 'PF' 'PF' 'PG' 'SG' 'PG' 'PF' 'C' 'SF' 'SG'\n 'SF' 'SF' 'PF' 'PG' 'PG' 'C' 'C'].\nReshape your data either using array.reshape(-1, 1) if your data has a single feature or array.reshape(1, -1) if it contains a single sample."
     ]
    }
   ],
   "source": [
    "ohe.fit_transform(df1['Position'])"
   ]
  },
  {
   "cell_type": "code",
   "execution_count": null,
   "id": "3ccd523a",
   "metadata": {},
   "outputs": [],
   "source": [
    "df1['Position'].reshape(-1,1)"
   ]
  },
  {
   "cell_type": "code",
   "execution_count": null,
   "id": "9b39c1b1",
   "metadata": {},
   "outputs": [],
   "source": [
    "x = np.array(df1['Position'])"
   ]
  },
  {
   "cell_type": "code",
   "execution_count": null,
   "id": "cca08be1",
   "metadata": {},
   "outputs": [],
   "source": [
    "x.reshape(-1,1)"
   ]
  },
  {
   "cell_type": "code",
   "execution_count": null,
   "id": "30f172b8",
   "metadata": {},
   "outputs": [],
   "source": [
    "x_df = pd.DataFrame(x)"
   ]
  },
  {
   "cell_type": "code",
   "execution_count": null,
   "id": "a6cc1073",
   "metadata": {},
   "outputs": [],
   "source": [
    "df1 = df1.join(x_df)"
   ]
  },
  {
   "cell_type": "code",
   "execution_count": 37,
   "id": "22b8ff90",
   "metadata": {},
   "outputs": [
    {
     "name": "stdout",
     "output_type": "stream",
     "text": [
      "<class 'pandas.core.frame.DataFrame'>\n",
      "Int64Index: 457 entries, 0 to 456\n",
      "Data columns (total 4 columns):\n",
      " #   Column        Non-Null Count  Dtype  \n",
      "---  ------        --------------  -----  \n",
      " 0   Number        457 non-null    float64\n",
      " 1   Position      457 non-null    object \n",
      " 2   Salary        457 non-null    float64\n",
      " 3   Position_new  457 non-null    int32  \n",
      "dtypes: float64(2), int32(1), object(1)\n",
      "memory usage: 16.1+ KB\n"
     ]
    }
   ],
   "source": [
    "df1.info()"
   ]
  },
  {
   "cell_type": "code",
   "execution_count": 47,
   "id": "e6b6df68",
   "metadata": {},
   "outputs": [],
   "source": [
    "xtrain_1 = df1.iloc[:,[3]]"
   ]
  },
  {
   "cell_type": "code",
   "execution_count": 48,
   "id": "7bc3c552",
   "metadata": {},
   "outputs": [
    {
     "data": {
      "text/html": [
       "<div>\n",
       "<style scoped>\n",
       "    .dataframe tbody tr th:only-of-type {\n",
       "        vertical-align: middle;\n",
       "    }\n",
       "\n",
       "    .dataframe tbody tr th {\n",
       "        vertical-align: top;\n",
       "    }\n",
       "\n",
       "    .dataframe thead th {\n",
       "        text-align: right;\n",
       "    }\n",
       "</style>\n",
       "<table border=\"1\" class=\"dataframe\">\n",
       "  <thead>\n",
       "    <tr style=\"text-align: right;\">\n",
       "      <th></th>\n",
       "      <th>Position_new</th>\n",
       "    </tr>\n",
       "  </thead>\n",
       "  <tbody>\n",
       "    <tr>\n",
       "      <th>0</th>\n",
       "      <td>2</td>\n",
       "    </tr>\n",
       "    <tr>\n",
       "      <th>1</th>\n",
       "      <td>3</td>\n",
       "    </tr>\n",
       "    <tr>\n",
       "      <th>2</th>\n",
       "      <td>4</td>\n",
       "    </tr>\n",
       "    <tr>\n",
       "      <th>3</th>\n",
       "      <td>4</td>\n",
       "    </tr>\n",
       "    <tr>\n",
       "      <th>4</th>\n",
       "      <td>1</td>\n",
       "    </tr>\n",
       "    <tr>\n",
       "      <th>...</th>\n",
       "      <td>...</td>\n",
       "    </tr>\n",
       "    <tr>\n",
       "      <th>452</th>\n",
       "      <td>1</td>\n",
       "    </tr>\n",
       "    <tr>\n",
       "      <th>453</th>\n",
       "      <td>2</td>\n",
       "    </tr>\n",
       "    <tr>\n",
       "      <th>454</th>\n",
       "      <td>2</td>\n",
       "    </tr>\n",
       "    <tr>\n",
       "      <th>455</th>\n",
       "      <td>0</td>\n",
       "    </tr>\n",
       "    <tr>\n",
       "      <th>456</th>\n",
       "      <td>0</td>\n",
       "    </tr>\n",
       "  </tbody>\n",
       "</table>\n",
       "<p>457 rows × 1 columns</p>\n",
       "</div>"
      ],
      "text/plain": [
       "     Position_new\n",
       "0               2\n",
       "1               3\n",
       "2               4\n",
       "3               4\n",
       "4               1\n",
       "..            ...\n",
       "452             1\n",
       "453             2\n",
       "454             2\n",
       "455             0\n",
       "456             0\n",
       "\n",
       "[457 rows x 1 columns]"
      ]
     },
     "execution_count": 48,
     "metadata": {},
     "output_type": "execute_result"
    }
   ],
   "source": [
    "xtrain_1"
   ]
  },
  {
   "cell_type": "code",
   "execution_count": 41,
   "id": "6f542bd9",
   "metadata": {},
   "outputs": [],
   "source": [
    "ytrain_1 = df1.iloc[:,[2]]"
   ]
  },
  {
   "cell_type": "code",
   "execution_count": 43,
   "id": "f93b4a3c",
   "metadata": {},
   "outputs": [
    {
     "data": {
      "text/html": [
       "<div>\n",
       "<style scoped>\n",
       "    .dataframe tbody tr th:only-of-type {\n",
       "        vertical-align: middle;\n",
       "    }\n",
       "\n",
       "    .dataframe tbody tr th {\n",
       "        vertical-align: top;\n",
       "    }\n",
       "\n",
       "    .dataframe thead th {\n",
       "        text-align: right;\n",
       "    }\n",
       "</style>\n",
       "<table border=\"1\" class=\"dataframe\">\n",
       "  <thead>\n",
       "    <tr style=\"text-align: right;\">\n",
       "      <th></th>\n",
       "      <th>Salary</th>\n",
       "    </tr>\n",
       "  </thead>\n",
       "  <tbody>\n",
       "    <tr>\n",
       "      <th>0</th>\n",
       "      <td>7730337.0</td>\n",
       "    </tr>\n",
       "    <tr>\n",
       "      <th>1</th>\n",
       "      <td>6796117.0</td>\n",
       "    </tr>\n",
       "    <tr>\n",
       "      <th>2</th>\n",
       "      <td>947276.0</td>\n",
       "    </tr>\n",
       "    <tr>\n",
       "      <th>3</th>\n",
       "      <td>1148640.0</td>\n",
       "    </tr>\n",
       "    <tr>\n",
       "      <th>4</th>\n",
       "      <td>5000000.0</td>\n",
       "    </tr>\n",
       "    <tr>\n",
       "      <th>...</th>\n",
       "      <td>...</td>\n",
       "    </tr>\n",
       "    <tr>\n",
       "      <th>452</th>\n",
       "      <td>2239800.0</td>\n",
       "    </tr>\n",
       "    <tr>\n",
       "      <th>453</th>\n",
       "      <td>2433333.0</td>\n",
       "    </tr>\n",
       "    <tr>\n",
       "      <th>454</th>\n",
       "      <td>900000.0</td>\n",
       "    </tr>\n",
       "    <tr>\n",
       "      <th>455</th>\n",
       "      <td>2900000.0</td>\n",
       "    </tr>\n",
       "    <tr>\n",
       "      <th>456</th>\n",
       "      <td>947276.0</td>\n",
       "    </tr>\n",
       "  </tbody>\n",
       "</table>\n",
       "<p>457 rows × 1 columns</p>\n",
       "</div>"
      ],
      "text/plain": [
       "        Salary\n",
       "0    7730337.0\n",
       "1    6796117.0\n",
       "2     947276.0\n",
       "3    1148640.0\n",
       "4    5000000.0\n",
       "..         ...\n",
       "452  2239800.0\n",
       "453  2433333.0\n",
       "454   900000.0\n",
       "455  2900000.0\n",
       "456   947276.0\n",
       "\n",
       "[457 rows x 1 columns]"
      ]
     },
     "execution_count": 43,
     "metadata": {},
     "output_type": "execute_result"
    }
   ],
   "source": [
    "ytrain_1"
   ]
  },
  {
   "cell_type": "code",
   "execution_count": 46,
   "id": "4a8ee4b3",
   "metadata": {},
   "outputs": [
    {
     "data": {
      "text/plain": [
       "Position    0\n",
       "dtype: int64"
      ]
     },
     "execution_count": 46,
     "metadata": {},
     "output_type": "execute_result"
    }
   ],
   "source": [
    "xtrain_1.isna().sum()"
   ]
  },
  {
   "cell_type": "code",
   "execution_count": 49,
   "id": "6fd8c045",
   "metadata": {},
   "outputs": [],
   "source": [
    "from sklearn.linear_model import LinearRegression"
   ]
  },
  {
   "cell_type": "code",
   "execution_count": 51,
   "id": "14716de3",
   "metadata": {},
   "outputs": [],
   "source": [
    "l1 = LinearRegression()"
   ]
  },
  {
   "cell_type": "code",
   "execution_count": 54,
   "id": "2c9e5019",
   "metadata": {},
   "outputs": [],
   "source": [
    "from sklearn.model_selection import train_test_split"
   ]
  },
  {
   "cell_type": "code",
   "execution_count": 56,
   "id": "da9201f6",
   "metadata": {},
   "outputs": [],
   "source": [
    "x_train,x_test,y_train,y_test = train_test_split(xtrain_1,ytrain_1)"
   ]
  },
  {
   "cell_type": "code",
   "execution_count": 57,
   "id": "acb6f26d",
   "metadata": {},
   "outputs": [],
   "source": [
    "t = l1.fit(x_train,y_train)"
   ]
  },
  {
   "cell_type": "code",
   "execution_count": 59,
   "id": "cc951991",
   "metadata": {},
   "outputs": [],
   "source": [
    "y_pred = t.predict(x_test)"
   ]
  },
  {
   "cell_type": "code",
   "execution_count": 62,
   "id": "0c9a25b0",
   "metadata": {},
   "outputs": [
    {
     "name": "stdout",
     "output_type": "stream",
     "text": [
      "[4782219.0, 5578158.0, 5180188.0, 5578158.0, 3986280.0, 4782219.0, 5578158.0, 3986280.0, 4782219.0, 5578158.0, 4782219.0, 5578158.0, 5578158.0, 5578158.0, 3986280.0, 4782219.0, 5180188.0, 4782219.0, 5578158.0, 5578158.0, 4384249.0, 4782219.0, 3986280.0, 4384249.0, 4782219.0, 4782219.0, 5578158.0, 5180188.0, 5578158.0, 4782219.0, 4384249.0, 5578158.0, 4782219.0, 5578158.0, 5578158.0, 3986280.0, 3986280.0, 4384249.0, 4782219.0, 5180188.0, 5180188.0, 4782219.0, 4782219.0, 4384249.0, 5180188.0, 4384249.0, 4384249.0, 3986280.0, 5180188.0, 4384249.0, 4782219.0, 4384249.0, 4782219.0, 5578158.0, 4384249.0, 5180188.0, 3986280.0, 5180188.0, 3986280.0, 4782219.0, 5180188.0, 3986280.0, 5180188.0, 5578158.0, 4782219.0, 3986280.0, 3986280.0, 3986280.0, 3986280.0, 4384249.0, 5578158.0, 4384249.0, 5180188.0, 4782219.0, 5180188.0, 3986280.0, 5180188.0, 4384249.0, 5180188.0, 4782219.0, 4384249.0, 4384249.0, 4782219.0, 3986280.0, 4782219.0, 4384249.0, 5180188.0, 5578158.0, 5180188.0, 3986280.0, 4384249.0, 5180188.0, 3986280.0, 5578158.0, 5578158.0, 3986280.0, 5578158.0, 3986280.0, 5578158.0, 3986280.0, 3986280.0, 5180188.0, 3986280.0, 4384249.0, 3986280.0, 5578158.0, 4384249.0, 4384249.0, 4384249.0, 5180188.0, 5578158.0, 5578158.0, 4384249.0, 4782219.0, 4782219.0]\n"
     ]
    }
   ],
   "source": [
    "lst = []\n",
    "for i in y_pred:\n",
    "    lst.append(float(int(i)))\n",
    "print(lst)"
   ]
  },
  {
   "cell_type": "code",
   "execution_count": 84,
   "id": "13bed8ef",
   "metadata": {},
   "outputs": [],
   "source": [
    "from sklearn.metrics import mean_absolute_error"
   ]
  },
  {
   "cell_type": "code",
   "execution_count": 82,
   "id": "be42cd2f",
   "metadata": {},
   "outputs": [],
   "source": [
    "d = pd.DataFrame(lst)\n",
    "t = mean_absolute_error(d,y_pred)"
   ]
  },
  {
   "cell_type": "code",
   "execution_count": 83,
   "id": "e01d76f4",
   "metadata": {},
   "outputs": [
    {
     "name": "stdout",
     "output_type": "stream",
     "text": [
      "mean_absoluter error is 32.60466428068669\n"
     ]
    }
   ],
   "source": [
    "print(\"mean_absoluter error is\",t*100)"
   ]
  },
  {
   "cell_type": "code",
   "execution_count": 86,
   "id": "60fd9382",
   "metadata": {},
   "outputs": [
    {
     "name": "stdout",
     "output_type": "stream",
     "text": [
      "67.39533571931331\n"
     ]
    }
   ],
   "source": [
    "accuracy = print(100-t*100)"
   ]
  },
  {
   "cell_type": "code",
   "execution_count": null,
   "id": "3887b5f8",
   "metadata": {},
   "outputs": [],
   "source": []
  }
 ],
 "metadata": {
  "kernelspec": {
   "display_name": "Python 3 (ipykernel)",
   "language": "python",
   "name": "python3"
  },
  "language_info": {
   "codemirror_mode": {
    "name": "ipython",
    "version": 3
   },
   "file_extension": ".py",
   "mimetype": "text/x-python",
   "name": "python",
   "nbconvert_exporter": "python",
   "pygments_lexer": "ipython3",
   "version": "3.9.7"
  }
 },
 "nbformat": 4,
 "nbformat_minor": 5
}
